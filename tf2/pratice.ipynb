{
 "cells": [
  {
   "cell_type": "code",
   "execution_count": 43,
   "metadata": {},
   "outputs": [
    {
     "name": "stdout",
     "output_type": "stream",
     "text": [
      "1.15.0\n"
     ]
    }
   ],
   "source": [
    "#import libraries and check versions\n",
    "import tensorflow as tf\n",
    "from tensorflow import keras\n",
    "# Helper libraries\n",
    "import numpy as np\n",
    "import matplotlib.pyplot as plt\n",
    "\n",
    "print(tf.__version__)"
   ]
  },
  {
   "cell_type": "code",
   "execution_count": 44,
   "metadata": {},
   "outputs": [
    {
     "name": "stdout",
     "output_type": "stream",
     "text": [
      "23\n"
     ]
    }
   ],
   "source": [
    "with tf.compat.v1.Session() as sess:\n",
    "    a = tf.constant(5, name=\"input_a\")\n",
    "    b = tf.constant(3, name=\"input_b\")\n",
    "    c = tf.math.multiply(a, b, name=\"input_c\")\n",
    "    d = tf.math.add(a, b, name=\"input_d\")\n",
    "    e = tf.add(c, d, name=\"input_e\")\n",
    "    print(sess.run(e))"
   ]
  },
  {
   "cell_type": "code",
   "execution_count": 39,
   "metadata": {},
   "outputs": [],
   "source": [
    "#print(e)"
   ]
  },
  {
   "cell_type": "code",
   "execution_count": 40,
   "metadata": {},
   "outputs": [],
   "source": [
    "# graph = tf.Graph()\n",
    "# with graph.as_default():\n",
    "#   variable = tf.Variable(42, name='foo')\n",
    "#   initialize = tf.global_variables_initializer()\n",
    "#   assign = variable.assign(13)\n",
    "# with tf.Session(graph=graph) as sess:\n",
    "#   sess.run(initialize)\n",
    "#   sess.run(assign)\n",
    "#   print(sess.run(variable))\n",
    "# # Output: 13"
   ]
  },
  {
   "cell_type": "code",
   "execution_count": 41,
   "metadata": {},
   "outputs": [
    {
     "name": "stdout",
     "output_type": "stream",
     "text": [
      "[15.  8.  2.]\n"
     ]
    }
   ],
   "source": [
    "X = tf.placeholder(tf.float32, name=\"x\")\n",
    "Y = tf.placeholder(tf.float32, name=\"y\")\n",
    "addition = tf.add(X, Y, name = \"addition\")\n",
    "with tf.Session() as sess:\n",
    "  res = sess.run(addition, feed_dict={X:[5,2,1], Y:[10,6,1]})\n",
    "  summary_writer = tf.summary.FileWriter('./logs',sess.graph)\n",
    "  print(res)"
   ]
  },
  {
   "cell_type": "code",
   "execution_count": 42,
   "metadata": {},
   "outputs": [],
   "source": [
    "sess.close()"
   ]
  },
  {
   "cell_type": "code",
   "execution_count": null,
   "metadata": {},
   "outputs": [
    {
     "name": "stdout",
     "output_type": "stream",
     "text": [
      "TensorBoard 1.15.0 at http://Vinitas-MacBook-Pro.local:6007/ (Press CTRL+C to quit)\r\n"
     ]
    }
   ],
   "source": [
    "!tensorboard --logdir=logs"
   ]
  },
  {
   "cell_type": "code",
   "execution_count": null,
   "metadata": {},
   "outputs": [],
   "source": []
  }
 ],
 "metadata": {
  "kernelspec": {
   "display_name": "tensor_flow",
   "language": "python",
   "name": "tensor_flow"
  },
  "language_info": {
   "codemirror_mode": {
    "name": "ipython",
    "version": 3
   },
   "file_extension": ".py",
   "mimetype": "text/x-python",
   "name": "python",
   "nbconvert_exporter": "python",
   "pygments_lexer": "ipython3",
   "version": "3.7.9"
  }
 },
 "nbformat": 4,
 "nbformat_minor": 4
}
